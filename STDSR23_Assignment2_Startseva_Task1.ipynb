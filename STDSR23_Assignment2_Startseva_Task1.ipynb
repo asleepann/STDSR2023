{
  "nbformat": 4,
  "nbformat_minor": 0,
  "metadata": {
    "colab": {
      "provenance": []
    },
    "kernelspec": {
      "name": "python3",
      "display_name": "Python 3"
    },
    "language_info": {
      "name": "python"
    }
  },
  "cells": [
    {
      "cell_type": "markdown",
      "source": [
        "# STDSR23. Assignment 2. Task 1\n",
        "> Anna Startseva, @asleepann, BS19-DS, a.startseva@innopolis.university"
      ],
      "metadata": {
        "id": "LLaMURMbe61k"
      }
    },
    {
      "cell_type": "markdown",
      "source": [
        "## Short problem statement"
      ],
      "metadata": {
        "id": "QhQ1Kjl1beTt"
      }
    },
    {
      "cell_type": "markdown",
      "source": [
        "$n = 116$ one-liter water samples from sites identified as having a heavy environmental impact from birds (seagulls) and waterfowl.\n",
        "\n",
        "Out of these samples, $x = 17$ samples contained Giardia cysts.\n",
        "\n",
        "Let $θ$ denote the true probability that a one-liter water sample from this type of site contains Giardia cysts."
      ],
      "metadata": {
        "id": "MCf6m41Va9Vq"
      }
    },
    {
      "cell_type": "markdown",
      "source": [
        "## Question 1\n",
        "\n",
        "What is the conditional distribution of $X$, the number of samples containing Giardia cysts, given $\\theta$?"
      ],
      "metadata": {
        "id": "MDxLrZcwbxlr"
      }
    },
    {
      "cell_type": "markdown",
      "source": [
        "### Answer 1\n",
        "\n",
        "Conditional distribution of $X$ given $θ$ is $Binomial(116, θ)$ because water samples are independent of each other, probability of water sample to contain Giardia cysts is $θ$, and number of samples is $n = 116$."
      ],
      "metadata": {
        "id": "U4akLkdVb-Bb"
      }
    },
    {
      "cell_type": "markdown",
      "source": [
        "## Question 2\n",
        "\n",
        "Before the experiment, the NIWA scientists elicited that the expected value of $θ$ is 0.2 with a standard deviation of 0.16. Determine the parameters $α$ and $β$ of a Beta prior distribution for $θ$ with this prior mean and standard deviation. (Round $α$ and $β$ to the nearest integer)"
      ],
      "metadata": {
        "id": "JN2GhZJGcFUk"
      }
    },
    {
      "cell_type": "markdown",
      "source": [
        "### Answer 2\n",
        "\n",
        "Since $Beta$ distribution with parameters $α$ and $β$ has the following mean $\\frac{α}{α + β}$ and variance $\\frac{αβ}{(α + β)^2(α + β + 1)}$ and given initial scientists approximations of them ($0.2$ and $0.16^2$ respectively), we can find $α$ and $β$ by solving the following system of equations:\n",
        "\n",
        "\\begin{equation}\n",
        "\\begin{cases}\n",
        "\\frac{α}{α + β} = 0.2 \\\\\n",
        "\\frac{αβ}{(α + β)^2(α + β + 1)} = 0.16^2\n",
        "\\end{cases}\n",
        "\\end{equation}\n",
        "\n",
        "By rearranging the equations we get:\n",
        "\\begin{equation}\n",
        "\\begin{cases}\n",
        "α = 0.2α + 0.2β \\\\\n",
        "αβ = 0.0256(α + β)^2(α + β + 1)\n",
        "\\end{cases}\n",
        "\\end{equation}\n",
        "The first equation gives as $4α = β$. Then by replacing $β$ in the second equation we get:\n",
        "\\begin{equation}\n",
        "4α^2 = 0.0256(5α)^2(5α + 1)\n",
        "\\end{equation}\n",
        "Solving this we obtain the following results:\n",
        "\\begin{equation}\n",
        "\\begin{cases}\n",
        "α \\approx 1 \\\\\n",
        "β \\approx 4\n",
        "\\end{cases}\n",
        "\\end{equation}\n",
        "\n",
        "Hence, prior distribution for $\\theta$ is $Beta(1, 4)$."
      ],
      "metadata": {
        "id": "HSqOLY7pex9q"
      }
    },
    {
      "cell_type": "markdown",
      "source": [
        "## Question 3\n",
        "Find the posterior distribution of $θ$ and summarize it by its posterior mean and standard deviation."
      ],
      "metadata": {
        "id": "4BedPm3Wbwrq"
      }
    },
    {
      "cell_type": "markdown",
      "source": [
        "### Answer 3\n",
        "\n",
        "Prior distribution for $\\theta$ is $Beta(1, 4)$ and Conditional distribution of $X$ given $θ$ is $Binomial(116, θ)$. From problem statement we know that $x = 17$ samples contained Giardia cysts, thus, the posterior distribution is also $Beta(α', β')$ distribution, where\n",
        "$$α' = α + x$$\n",
        "$$β' = β + n - x$$\n",
        "Substitution yeilds\n",
        "$$α' = 1 + 17 = 18$$\n",
        "$$β' = 4 + 116 - 17 = 103$$\n",
        "Hence, posterior distribution of $θ$ is $Beta(18, 103)$.\n",
        "\n",
        "Mean of this distribution is\n",
        "$$\\frac{α'}{α' + β'} = \\frac{18}{121} \\approx 0.15$$\n",
        "Standard deviation is\n",
        "$$\\sqrt{\\frac{α'β'}{(α' + β')^2(α' + β' + 1)}} = \\sqrt{\\frac{1854}{14641 * 122}} \\approx 0.03$$"
      ],
      "metadata": {
        "id": "bsKGFnpQkHOW"
      }
    },
    {
      "cell_type": "markdown",
      "source": [
        "## Question 4\n",
        "Plot the prior, posterior and normalized likelihood."
      ],
      "metadata": {
        "id": "Ja-9FWiwcwom"
      }
    },
    {
      "cell_type": "markdown",
      "source": [
        "### Answer 4"
      ],
      "metadata": {
        "id": "h_pKSsgHqJXp"
      }
    },
    {
      "cell_type": "code",
      "execution_count": 1,
      "metadata": {
        "id": "L4YB4vYne21i",
        "colab": {
          "base_uri": "https://localhost:8080/",
          "height": 472
        },
        "outputId": "339313d5-23c6-4067-d02c-383e01c29383"
      },
      "outputs": [
        {
          "output_type": "display_data",
          "data": {
            "text/plain": [
              "<Figure size 640x480 with 1 Axes>"
            ],
            "image/png": "[encoded data removed]"
          },
          "metadata": {}
        }
      ],
      "source": [
        "import numpy as np\n",
        "from scipy.stats import beta, binom\n",
        "import matplotlib.pyplot as plt\n",
        "\n",
        "# parameters\n",
        "n = 116\n",
        "x = 17\n",
        "# prior\n",
        "a = 1\n",
        "b = 4\n",
        "# posterior\n",
        "a1 = a + x\n",
        "b1 = b + n - x\n",
        "\n",
        "theta = np.linspace(0, 1, 300)\n",
        "\n",
        "# calculate distributions\n",
        "prior = beta.pdf(theta, a, b)\n",
        "posterior = beta.pdf(theta, a1, b1)\n",
        "\n",
        "# calculate normalized likelihood\n",
        "likelihood_norm = binom.pmf(x, n, theta) * n\n",
        "\n",
        "# plot distributions\n",
        "plt.plot(theta, prior, label='prior')\n",
        "plt.plot(theta, posterior, label='posterior')\n",
        "\n",
        "# plot normalized likelihood\n",
        "plt.plot(theta, likelihood_norm, label='normalized likelihood')\n",
        "plt.title('Prior and Posterior Distributions, Normalized Likelihood')\n",
        "plt.xlabel('theta')\n",
        "plt.ylabel('density')\n",
        "plt.legend()\n",
        "\n",
        "plt.show()"
      ]
    },
    {
      "cell_type": "markdown",
      "source": [
        "## Question 5\n",
        "Find the posterior probability that $θ < 0.1$."
      ],
      "metadata": {
        "id": "w2LrCB-Qc1qp"
      }
    },
    {
      "cell_type": "markdown",
      "source": [
        "### Answer 5"
      ],
      "metadata": {
        "id": "5OLNFPCkc6ve"
      }
    },
    {
      "cell_type": "markdown",
      "source": [
        "We can use cumulative distribution function (CDF) to calculate posterior probability of $θ < 0.1$."
      ],
      "metadata": {
        "id": "zLJu2AyUpTU2"
      }
    },
    {
      "cell_type": "code",
      "source": [
        "theta_bound = 0.1\n",
        "post_prob = beta.cdf(theta_bound, a1, b1)\n",
        "print('Posterior probabitlity for θ < 0.1 is', post_prob)"
      ],
      "metadata": {
        "colab": {
          "base_uri": "https://localhost:8080/"
        },
        "id": "YvvZIVVspGd8",
        "outputId": "4949bf0e-e0ee-417f-c1e6-af4c9d3f4b0b"
      },
      "execution_count": 2,
      "outputs": [
        {
          "output_type": "stream",
          "name": "stdout",
          "text": [
            "Posterior probabitlity for θ < 0.1 is 0.053094376993042654\n"
          ]
        }
      ]
    },
    {
      "cell_type": "markdown",
      "source": [
        "## Question 6\n",
        "Find a central 95% posterior credible interval for $θ$."
      ],
      "metadata": {
        "id": "G6pUU0hvc7Yk"
      }
    },
    {
      "cell_type": "markdown",
      "source": [
        "### Answer 6"
      ],
      "metadata": {
        "id": "zm3dP33zc72L"
      }
    },
    {
      "cell_type": "markdown",
      "source": [
        "Centered 95% posterior credible interval is from 2.5% to 97.5% quantiles. We can use Percent Point Function (PPF) to find it."
      ],
      "metadata": {
        "id": "Ldd1ik4nqPXq"
      }
    },
    {
      "cell_type": "code",
      "source": [
        "# compute quantiles\n",
        "q025 = beta.ppf(0.025, a1, b1)\n",
        "q975 = beta.ppf(0.975, a1, b1)\n",
        "\n",
        "# Print the 95% credible interval\n",
        "print('Central 95% posterior credible interval for θ is', [q025, q975])"
      ],
      "metadata": {
        "colab": {
          "base_uri": "https://localhost:8080/"
        },
        "id": "j3O9Zmesc6CJ",
        "outputId": "2c93fedc-f410-433b-b63a-b8346fe3ae37"
      },
      "execution_count": 3,
      "outputs": [
        {
          "output_type": "stream",
          "name": "stdout",
          "text": [
            "Central 95% posterior credible interval for θ is [0.09138957252823, 0.21710689824337648]\n"
          ]
        }
      ]
    },
    {
      "cell_type": "code",
      "source": [],
      "metadata": {
        "id": "4dvKtUgtrdch"
      },
      "execution_count": null,
      "outputs": []
    }
  ]
}